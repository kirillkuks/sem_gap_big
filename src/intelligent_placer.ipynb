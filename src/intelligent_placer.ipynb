{
 "cells": [
  {
   "cell_type": "markdown",
   "id": "fbd1ae1f",
   "metadata": {},
   "source": [
    "# Пример работы алгоритма Intelligent placer"
   ]
  },
  {
   "cell_type": "markdown",
   "id": "fb472ab7",
   "metadata": {},
   "source": [
    "## Предобработка"
   ]
  },
  {
   "cell_type": "code",
   "execution_count": 5,
   "id": "1f695e8c",
   "metadata": {},
   "outputs": [],
   "source": [
    "from intelligent_placer_lib.intelligent_placer_src import *"
   ]
  },
  {
   "cell_type": "code",
   "execution_count": null,
   "id": "78e2421f",
   "metadata": {},
   "outputs": [],
   "source": []
  },
  {
   "cell_type": "code",
   "execution_count": null,
   "id": "8386bb64",
   "metadata": {},
   "outputs": [],
   "source": []
  }
 ],
 "metadata": {
  "kernelspec": {
   "display_name": "Python 3 (ipykernel)",
   "language": "python",
   "name": "python3"
  },
  "language_info": {
   "codemirror_mode": {
    "name": "ipython",
    "version": 3
   },
   "file_extension": ".py",
   "mimetype": "text/x-python",
   "name": "python",
   "nbconvert_exporter": "python",
   "pygments_lexer": "ipython3",
   "version": "3.9.7"
  }
 },
 "nbformat": 4,
 "nbformat_minor": 5
}
